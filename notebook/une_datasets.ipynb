{
 "cells": [
  {
   "cell_type": "code",
   "execution_count": 8,
   "metadata": {},
   "outputs": [],
   "source": [
    "import pandas as pd"
   ]
  },
  {
   "cell_type": "markdown",
   "metadata": {},
   "source": [
    "### Lê os dataframes"
   ]
  },
  {
   "cell_type": "code",
   "execution_count": 9,
   "metadata": {},
   "outputs": [],
   "source": [
    "df_combined = pd.DataFrame()"
   ]
  },
  {
   "cell_type": "code",
   "execution_count": 10,
   "metadata": {},
   "outputs": [
    {
     "name": "stdout",
     "output_type": "stream",
     "text": [
      "Index(['question', 'answer', 'text'], dtype='object')\n",
      "(2195, 3)\n",
      "Index(['question', 'answer', 'text'], dtype='object')\n",
      "(2195, 3)\n"
     ]
    }
   ],
   "source": [
    "campeonatos = pd.read_csv('../data/guanaco_campeonatos.csv', sep=';')\n",
    "df_combined = pd.concat([df_combined, campeonatos]).reset_index(drop=True)\n",
    "\n",
    "print(campeonatos.columns)\n",
    "print(campeonatos.shape)\n",
    "print(df_combined.columns)\n",
    "print(df_combined.shape)"
   ]
  },
  {
   "cell_type": "code",
   "execution_count": null,
   "metadata": {},
   "outputs": [],
   "source": [
    "equipes = pd.read_csv('../data/guanaco_equipes.csv', sep=';')\n",
    "df_combined = pd.concat([df_combined, equipes]).reset_index(drop=True)\n",
    "\n",
    "print(equipes.columns)\n",
    "print(equipes.shape)\n",
    "print(df_combined.columns)\n",
    "print(df_combined.shape)"
   ]
  },
  {
   "cell_type": "code",
   "execution_count": null,
   "metadata": {},
   "outputs": [],
   "source": [
    "equipes = pd.read_csv('../data/guanaco_equipes.csv', sep=';')\n",
    "df_combined = pd.concat([df_combined, equipes]).reset_index(drop=True)\n",
    "\n",
    "print(equipes.columns)\n",
    "print(equipes.shape)\n",
    "print(df_combined.columns)\n",
    "print(df_combined.shape)"
   ]
  },
  {
   "cell_type": "code",
   "execution_count": null,
   "metadata": {},
   "outputs": [],
   "source": [
    "equipes = pd.read_csv('../data/guanaco_equipes.csv', sep=';')\n",
    "df_combined = pd.concat([df_combined, equipes]).reset_index(drop=True)\n",
    "\n",
    "print(equipes.columns)\n",
    "print(equipes.shape)\n",
    "print(df_combined.columns)\n",
    "print(df_combined.shape)"
   ]
  }
 ],
 "metadata": {
  "kernelspec": {
   "display_name": "sofascore",
   "language": "python",
   "name": "python3"
  },
  "language_info": {
   "codemirror_mode": {
    "name": "ipython",
    "version": 3
   },
   "file_extension": ".py",
   "mimetype": "text/x-python",
   "name": "python",
   "nbconvert_exporter": "python",
   "pygments_lexer": "ipython3",
   "version": "3.9.18"
  }
 },
 "nbformat": 4,
 "nbformat_minor": 2
}
